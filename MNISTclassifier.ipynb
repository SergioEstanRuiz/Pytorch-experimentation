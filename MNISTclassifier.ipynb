{
 "cells": [
  {
   "cell_type": "markdown",
   "metadata": {},
   "source": [
    "## Neural network classifiers\n",
    "- The aim of this notebook is to present a classifier for the MNIST dataset. The general architecture can be used for other image-classifiers. If the input is a vector instead then the convolutional layer will have to be changed, but most of the principles still apply.\n",
    "- The model produced has a testing accuracy of 97%! This is encouraging but be aware: the MNIST dataset is an extremely simple one. In general, it is much harder to get good performances on things like CIFAR. "
   ]
  },
  {
   "cell_type": "code",
   "execution_count": 1,
   "metadata": {},
   "outputs": [
    {
     "name": "stderr",
     "output_type": "stream",
     "text": [
      "/usr/local/lib/python3.10/dist-packages/matplotlib/projections/__init__.py:63: UserWarning: Unable to import Axes3D. This may be due to multiple versions of Matplotlib being installed (e.g. as a system package and as a pip package). As a result, the 3D projection is not available.\n",
      "  warnings.warn(\"Unable to import Axes3D. This may be due to multiple versions of \"\n"
     ]
    }
   ],
   "source": [
    "import torch\n",
    "import torch.nn as nn\n",
    "import torch.optim as optim\n",
    "from torch.utils.data import DataLoader\n",
    "import numpy as np\n",
    "from sklearn.model_selection import train_test_split\n",
    "import matplotlib.pyplot as plt\n",
    "from torchinfo import summary"
   ]
  },
  {
   "cell_type": "code",
   "execution_count": 2,
   "metadata": {},
   "outputs": [],
   "source": [
    "# torchvision.datasets includes a series of image and video datasets\n",
    "from torchvision.datasets import MNIST\n",
    "from torchvision.transforms import (ToTensor)"
   ]
  },
  {
   "cell_type": "markdown",
   "metadata": {},
   "source": [
    "### Uploading the data and transforming it\n",
    "- First we download the MNIST dataset, and convert the 28*28 images into Tensors. We separate into a training and testing set. \n",
    "- Then we use the `DataLoader`, which is a class which enables us to efficiently load and process the data into mini-batches for training and testing. Specifically, `train_loader` and `test_loader` are instances of the `DataLoader` class. What are these? They are objects over which we can iterate (see below during the training chunk of code) and at each iteration we get a batch of images and labels. That is, when we do `images, labels = next(iter(train_loader))` we get a tensor of size (batch_size, channels, height, width). In our case this is just (64,1,28,28) since the images are in a greyscale so there's only 1 channel, and the images are 28*28."
   ]
  },
  {
   "cell_type": "code",
   "execution_count": 3,
   "metadata": {},
   "outputs": [],
   "source": [
    "(mnist_train,\n",
    "mnist_test) = [MNIST(root='data', train=train, download=True, transform=ToTensor()) for train in [True, False]]\n",
    "\n",
    "train_loader = DataLoader(mnist_train, batch_size=64, shuffle=True)\n",
    "test_loader = DataLoader(mnist_test, batch_size=64, shuffle=False)"
   ]
  },
  {
   "cell_type": "markdown",
   "metadata": {},
   "source": [
    "### The model (convolutional layers, pooling, padding and dropout)\n",
    "- Let's explain the different layers in our neural network:\n",
    "\n",
    "| Type of Layer    | Explanation                                                                 |\n",
    "|------------------|-----------------------------------------------------------------------------|\n",
    "| Linear           | `nn.Linear(n, m)` applies a linear transformation $x \\to Ax$, where $A$ is an $m \\times n$ matrix. |\n",
    "| Convolutional    | `nn.Conv2d(in_channels, out_channels, kernel_size, padding)`, where:<br> (1) The input tensor will have shape `(in_channels, height, width)`, in a greyscale image this is equal to 1, in RGB it'll be equal to 3.<br> (2) This layer will output `out_channels` number of images, each of which is the result of a different kernel being applied to the input image. This allows each kernel to specialize on something different.<br> (3) The `kernel_size` specifies the size of the kernel matrix.<br> (4) The `stride` tells us how we move with the kernel along the image.<br> (5) The `padding` adds a white border to our image to ensure that the output image has the same size. |\n",
    "| MaxPooling       | Reduces spatial dimensions by taking the maximum value in a kernel window.|\n",
    "| Dropout          | Randomly sets a fraction of input units to zero during training to prevent overfitting. |\n",
    "| Flatten          | Used to convert the different channels outputted from the convolutional layer to a vector. |\n"
   ]
  },
  {
   "cell_type": "code",
   "execution_count": 4,
   "metadata": {},
   "outputs": [],
   "source": [
    "class MNISTClassifier(nn.Module):\n",
    "    def __init__(self):\n",
    "        super(MNISTClassifier, self).__init__()\n",
    "        self.conv = nn.Conv2d(in_channels=1, out_channels=4, kernel_size=3, stride =1, padding=1) # Input: 28*28, Output: 28*28\n",
    "        self.pool = nn.MaxPool2d(kernel_size=2, stride=2) # Input: 28*28, Output: 14*14\n",
    "        self.flatten = nn.Flatten()  # Add a Flatten layer\n",
    "        self.fc1 = nn.Linear(4*14 * 14, 100)  # Input: 196, Hidden: 100\n",
    "        self.fc2 = nn.Linear(100, 64)  # Hidden: 64\n",
    "        self.fc3 = nn.Linear(64, 10)   # Output: 10 classes (digits 0-9)\n",
    "        self.relu = nn.ReLU()\n",
    "        self.dropout = nn.Dropout(0.2)  # Dropout for regularization\n",
    "\n",
    "    def forward(self, x):\n",
    "        x = self.relu(self.conv(x))\n",
    "        x = self.pool(x)\n",
    "        x = self.flatten(x)    \n",
    "        x = self.fc1(x)\n",
    "        x = self.dropout(x)\n",
    "        x = self.relu(self.fc2(x))\n",
    "        x = self.dropout(x)\n",
    "        x = self.fc3(x)\n",
    "        return x  # No softmax needed (CrossEntropyLoss applies it)"
   ]
  },
  {
   "cell_type": "markdown",
   "metadata": {},
   "source": [
    "### Training \n",
    "We follow the same idea as in the LinearRegression.ipynb file. Two slight differences:\n",
    "- Before the training starts we try to specify the processor we'd like to use. This is the use of the `torch.device` method. \n",
    "- Before, in every epoch we didn't have to add the loss. We just computed one. That's because we stuck all of our training data at one and calculated a global loss immediately. Here we loop over a batch from the DataLoader, and for every image we calculate the loss. \n",
    "\n",
    "An important thing is the normally we'd use a softmax layer in the output layer. That is, \n",
    "$$ \\sigma(v)_i = \\frac{e^{v_i}}{\\sum_{k=1}^K e^{v_k}}.$$\n",
    "Hence if our classifier chooses from $K$ different objects, the ith node from the last layer would correspond to the probability that our input corresponds to class i. When we apply the `CrossEntropyLoss()` this automatically starts by applying the softmax function and then goes on to apply the cross entropy loss.\n",
    "<br>\n",
    "In general, *cross-entropy loss* measures the dissimilarity between two discrete probability distributions p,q. It is given by $$ H(p,q) = - \\sum_i p_i \\log (q_i).$$\n",
    "<br>\n",
    "Of course, is this context we take the p distribution as the true one, so it assigns full mass to the correct image. Hence the loss becomes $\\mathcal{L} = - \\log (\\hat{p}_y)$, where $\\hat{p}_y$ is the probability that our model assigns the input element to the class $y$. Hence, for a whole batch the cross-entropy loss simply becomes\n",
    "$$ \\mathcal{L} = - \\frac{1}{Batch\\_size}\\sum_i \\log(\\hat{p}_{y_i}).$$ "
   ]
  },
  {
   "cell_type": "code",
   "execution_count": 5,
   "metadata": {},
   "outputs": [
    {
     "name": "stdout",
     "output_type": "stream",
     "text": [
      "Epoch [1/5], Loss: 0.4023\n",
      "Epoch [2/5], Loss: 0.1366\n",
      "Epoch [3/5], Loss: 0.1079\n",
      "Epoch [4/5], Loss: 0.0941\n",
      "Epoch [5/5], Loss: 0.0855\n",
      "Training complete!\n"
     ]
    }
   ],
   "source": [
    "# Check for GPU\n",
    "device = torch.device(\"cuda\" if torch.cuda.is_available() else \"cpu\")\n",
    "\n",
    "# Initialize model, loss, and optimizer\n",
    "model = MNISTClassifier().to(device)\n",
    "criterion = nn.CrossEntropyLoss()\n",
    "optimizer = optim.Adam(model.parameters(), lr=0.001)\n",
    "\n",
    "# Training loop\n",
    "num_epochs = 5\n",
    "for epoch in range(num_epochs):\n",
    "    running_loss = 0.0\n",
    "    for images, labels in train_loader:\n",
    "        # Images has dimensions [batch_size, 1, 28, 28], 1=channel for greyscale\n",
    "        # Labels has dimensions [batch_size]\n",
    "        images, labels = images.to(device), labels.to(device)\n",
    "\n",
    "        # Forward pass\n",
    "        outputs = model(images)\n",
    "        loss = criterion(outputs, labels)\n",
    "\n",
    "        # Backpropagation\n",
    "        optimizer.zero_grad()\n",
    "        loss.backward()\n",
    "        optimizer.step()\n",
    "\n",
    "        running_loss += loss.item()\n",
    "\n",
    "    print(f\"Epoch [{epoch+1}/{num_epochs}], Loss: {running_loss/len(train_loader):.4f}\")\n",
    "\n",
    "print(\"Training complete!\")"
   ]
  },
  {
   "cell_type": "code",
   "execution_count": 6,
   "metadata": {},
   "outputs": [
    {
     "data": {
      "text/plain": [
       "=================================================================\n",
       "Layer (type:depth-idx)                   Param #\n",
       "=================================================================\n",
       "MNISTClassifier                          --\n",
       "├─Conv2d: 1-1                            40\n",
       "├─MaxPool2d: 1-2                         --\n",
       "├─Flatten: 1-3                           --\n",
       "├─Linear: 1-4                            78,500\n",
       "├─Linear: 1-5                            6,464\n",
       "├─Linear: 1-6                            650\n",
       "├─ReLU: 1-7                              --\n",
       "├─Dropout: 1-8                           --\n",
       "=================================================================\n",
       "Total params: 85,654\n",
       "Trainable params: 85,654\n",
       "Non-trainable params: 0\n",
       "================================================================="
      ]
     },
     "execution_count": 6,
     "metadata": {},
     "output_type": "execute_result"
    }
   ],
   "source": [
    "summary(model)"
   ]
  },
  {
   "cell_type": "code",
   "execution_count": 7,
   "metadata": {},
   "outputs": [
    {
     "name": "stdout",
     "output_type": "stream",
     "text": [
      "Test Accuracy: 97.66%\n"
     ]
    }
   ],
   "source": [
    "# Test the model\n",
    "correct = 0\n",
    "total = 0\n",
    "model.eval()  # Set model to evaluation mode\n",
    "\n",
    "# No need to calculate gradients, so turn off autograd to speed up\n",
    "with torch.no_grad():\n",
    "    for images, labels in test_loader:\n",
    "        images, labels = images.to(device), labels.to(device)\n",
    "        outputs = model(images)\n",
    "        # Predicted class is the one with maximum probability\n",
    "        _, predicted = torch.max(outputs, 1)  # Get index of max logit\n",
    "        total += labels.size(0)\n",
    "        correct += (predicted == labels).sum().item()\n",
    "\n",
    "accuracy = 100 * correct / total\n",
    "print(f\"Test Accuracy: {accuracy:.2f}%\")"
   ]
  },
  {
   "cell_type": "markdown",
   "metadata": {},
   "source": [
    "We use an interesting method called `model.eval()`. This sets the model to evaluation mode. This is important because during a forward pass is won't activate layers like `Dropout`, which are nonetheless essential for training."
   ]
  },
  {
   "cell_type": "code",
   "execution_count": 8,
   "metadata": {},
   "outputs": [
    {
     "data": {
      "image/png": "[encoded data removed]",
      "text/plain": [
       "<Figure size 1000x600 with 15 Axes>"
      ]
     },
     "metadata": {},
     "output_type": "display_data"
    }
   ],
   "source": [
    "import numpy as np\n",
    "\n",
    "# Get some test images\n",
    "images, labels = next(iter(test_loader))\n",
    "images, labels = images.to(device), labels.to(device)\n",
    "\n",
    "# Predict\n",
    "model.eval()\n",
    "outputs = model(images)\n",
    "_, preds = torch.max(outputs, 1)\n",
    "\n",
    "# Plot images with predictions\n",
    "fig, axes = plt.subplots(3, 5, figsize=(10, 6))\n",
    "for i, ax in enumerate(axes.flat):\n",
    "    img = images[i].cpu().numpy().squeeze()\n",
    "    ax.imshow(img, cmap=\"gray\")\n",
    "    ax.set_title(f\"Pred: {preds[i].item()}\")\n",
    "    ax.axis(\"off\")\n",
    "\n",
    "plt.show()"
   ]
  }
 ],
 "metadata": {
  "kernelspec": {
   "display_name": "Python 3",
   "language": "python",
   "name": "python3"
  },
  "language_info": {
   "codemirror_mode": {
    "name": "ipython",
    "version": 3
   },
   "file_extension": ".py",
   "mimetype": "text/x-python",
   "name": "python",
   "nbconvert_exporter": "python",
   "pygments_lexer": "ipython3",
   "version": "3.10.12"
  }
 },
 "nbformat": 4,
 "nbformat_minor": 2
}
